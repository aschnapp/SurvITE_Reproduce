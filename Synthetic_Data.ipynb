{
  "cells": [
    {
      "cell_type": "markdown",
      "metadata": {
        "id": "view-in-github",
        "colab_type": "text"
      },
      "source": [
        "<a href=\"https://colab.research.google.com/github/aschnapp/SurvITE_Reproduce/blob/main/Synthetic_Data.ipynb\" target=\"_parent\"><img src=\"https://colab.research.google.com/assets/colab-badge.svg\" alt=\"Open In Colab\"/></a>"
      ]
    },
    {
      "cell_type": "code",
      "execution_count": null,
      "metadata": {
        "colab": {
          "background_save": true
        },
        "id": "auyKPYa9FOWh"
      },
      "outputs": [],
      "source": [
        "import numpy as np"
      ]
    },
    {
      "cell_type": "code",
      "execution_count": null,
      "metadata": {
        "colab": {
          "base_uri": "https://localhost:8080/"
        },
        "id": "rC0LswP50ED7",
        "outputId": "ba53cc5b-38d1-43b0-c1af-e2eac29479e1"
      },
      "outputs": [
        {
          "name": "stdout",
          "output_type": "stream",
          "text": [
            "['x', 'a', 't', 'y']\n",
            "X data\n",
            "[[-0.86089986 -2.07272029 -0.30700235 ... -0.76261147 -0.37664848\n",
            "   0.46294596]\n",
            " [-0.89201575 -1.88150989 -0.92411839 ... -1.58928698  0.06541155\n",
            "   0.09249244]\n",
            " [ 1.22571904  0.87595506 -0.96365153 ... -0.206866    0.69947509\n",
            "  -0.53299544]\n",
            " ...\n",
            " [ 1.61543496  1.46029479  0.94726507 ... -0.37694224  0.92250726\n",
            "   0.0087917 ]\n",
            " [-0.386835    1.28222598 -1.23494011 ... -1.39306658 -1.38504057\n",
            "  -1.42118923]\n",
            " [ 0.83823938  0.32325428  3.28606781 ...  0.76809525  0.51030666\n",
            "   0.79671443]]\n",
            "(5000, 10)\n",
            "a data\n",
            "[1 1 1 ... 0 0 1]\n",
            "(5000,)\n",
            "t data\n",
            "[30. 30. 12. ... 30. 23. 22.]\n",
            "(5000,)\n",
            "y data\n",
            "[0. 0. 1. ... 0. 1. 0.]\n",
            "(5000,)\n"
          ]
        }
      ],
      "source": [
        "# sample data\n",
        "import requests\n",
        "import io\n",
        "\n",
        "response = requests.get('https://raw.githubusercontent.com/chl8856/survITE/d7f217fb2bc2406ec11656be49c4fc29156372fb/data/tr_data.npz')\n",
        "response.raise_for_status()\n",
        "npz = np.load(io.BytesIO(response.content))\n",
        "\n",
        "# response_te = requests.get('https://raw.githubusercontent.com/chl8856/survITE/d7f217fb2bc2406ec11656be49c4fc29156372fb/data/te_data.npz')\n",
        "# response_te.raise_for_status()\n",
        "# npz = np.load(io.BytesIO(response_te.content))\n",
        "print(list(npz.keys()))\n",
        "te_x = npz['x']\n",
        "te_a = npz['a']\n",
        "te_t = npz['t']\n",
        "te_y = npz['y']\n",
        "\n",
        "print('X data')\n",
        "print(te_x)\n",
        "print(te_x.shape)\n",
        "\n",
        "print('a data')\n",
        "print(te_a)\n",
        "print(te_a.shape)\n",
        "\n",
        "print('t data')\n",
        "print(te_t) #max and min values are 30.0 and 1.0\n",
        "print(te_t.shape)\n",
        "\n",
        "print('y data')\n",
        "print(te_y)\n",
        "print(te_y.shape)\n"
      ]
    },
    {
      "cell_type": "code",
      "execution_count": null,
      "metadata": {
        "colab": {
          "base_uri": "https://localhost:8080/",
          "height": 449
        },
        "id": "eQCSNFLUfUmm",
        "outputId": "25ba3637-3cc7-42e2-b591-1f1bd34e2664"
      },
      "outputs": [
        {
          "data": {
            "image/png": "[encoded data removed]",
            "text/plain": [
              "<Figure size 640x480 with 1 Axes>"
            ]
          },
          "metadata": {},
          "output_type": "display_data"
        }
      ],
      "source": [
        "import matplotlib.pyplot as plt\n",
        "plt.hist(te_t, density=True, bins=30)  # density=False would make counts\n",
        "plt.ylabel('Probability')\n",
        "plt.xlabel('Data');"
      ]
    },
    {
      "cell_type": "code",
      "execution_count": null,
      "metadata": {
        "colab": {
          "base_uri": "https://localhost:8080/",
          "height": 484
        },
        "id": "KSHe6quxGp0G",
        "outputId": "0e3661b7-d47b-4694-b00c-522f22ac8a15"
      },
      "outputs": [
        {
          "name": "stdout",
          "output_type": "stream",
          "text": [
            "10\n",
            "100\n"
          ]
        },
        {
          "data": {
            "image/png": "[encoded data removed]",
            "text/plain": [
              "<Figure size 640x480 with 1 Axes>"
            ]
          },
          "metadata": {},
          "output_type": "display_data"
        }
      ],
      "source": [
        "plt.hist(te_y, density=True)  # density=False would make counts\n",
        "plt.ylabel('boolean')\n",
        "plt.xlabel('Data');\n",
        "\n",
        "n = 10\n",
        "rho = 0.2\n",
        "# 1x10 matrix of zeros as means\n",
        "mean = np.zeros(n)\n",
        "print(mean.size)\n",
        "\n",
        "cov =(1-rho)*np.eye(n) + rho * np.ones(n)*(np.ones(n).T)\n",
        "print(cov.size)\n"
      ]
    },
    {
      "cell_type": "code",
      "execution_count": null,
      "metadata": {
        "id": "0zjo1eYiG7Vp"
      },
      "outputs": [],
      "source": [
        "X = np.random.multivariate_normal(mean, cov, 5000)"
      ]
    },
    {
      "cell_type": "code",
      "execution_count": null,
      "metadata": {
        "colab": {
          "base_uri": "https://localhost:8080/"
        },
        "id": "C9YjFudfr_E8",
        "outputId": "82ee9e11-bb9e-4c27-95f1-ee28b12b1bb9"
      },
      "outputs": [
        {
          "name": "stdout",
          "output_type": "stream",
          "text": [
            "[[1 0 1 0 1 0 0 1 0 0]\n",
            " [1 1 1 0 0 0 1 0 1 1]\n",
            " [0 1 0 0 0 0 0 1 1 0]\n",
            " [1 1 0 0 1 0 0 0 1 0]\n",
            " [0 0 0 0 1 0 0 1 0 0]\n",
            " [1 0 1 1 0 0 0 1 1 0]\n",
            " [0 0 0 0 0 0 1 1 0 0]\n",
            " [1 1 1 0 0 1 0 0 0 0]\n",
            " [0 0 0 0 1 0 1 1 1 0]\n",
            " [1 1 1 0 0 0 1 0 0 1]]\n"
          ]
        }
      ],
      "source": [
        "my_array = np.random.binomial(n=1, p=0.5, size=(10,10))\n",
        "print(my_array)"
      ]
    },
    {
      "cell_type": "code",
      "execution_count": null,
      "metadata": {
        "id": "-RwjU1ZSIFBR"
      },
      "outputs": [],
      "source": [
        "# time points\n",
        "t = np.arange(1,31,1) # since te_t is also values between 1.0 and 30.0\n",
        "\n",
        "# different alphas depending on the experiment S1, S2,.. \n",
        "alpha_S1 = 0\n",
        "\n",
        "def sigmoid(x):\n",
        "  return 1 / (1 + np.exp(-x))\n",
        "\n",
        "\n",
        "\n",
        "def lambda_function(T, X, a):\n",
        "  y = []\n",
        "  for t in T:\n",
        "    if t <= 9: \n",
        "      y.append(0.1 * sigmoid(-5 * (X[:, 0])**2 - a * (np.where(X[:, 2] >= 0, 1, 0) + 0.5)))\n",
        "    else:\n",
        "      y.append(0.1 * sigmoid(10 * X[:, 1] - a * (np.where(X[:, 2] >= 0, 1, 0) + 0.5)))\n",
        "\n",
        "  return np.array(y)\n",
        "\n",
        "def lambda_function2(T, X, a):\n",
        "  y = []\n",
        "  for i, x in enumerate(X):\n",
        "    if T[i] <= 10:\n",
        "      y.append(0.1 * sigmoid(-5 * (x[0])**2 - a * (int(x[2] >= 0) + 0.5)))\n",
        "    else:\n",
        "      y.append(0.1 * sigmoid(10 * x[1] - a * (int(x[2] >= 0) + 0.5)))\n",
        "    \n",
        "  return np.array(y)\n",
        "\n",
        "def lambda_function_C(T, X):\n",
        "  y = np.zeros(30)\n",
        "  for t in T:\n",
        "    y[t] = 0.01 * sigmoid(10 * (X[:,3])**2)\n",
        "\n",
        "  y[29] = 1\n",
        "\n",
        "  return y\n",
        "\n",
        "S1 = lambda_function(t, X, 0)\n",
        "\n",
        "# S2 = lambda_function_C(t, X)\n",
        "\n",
        "PS3 = [0, 1]\n",
        "PS4 = [8, 9]\n",
        "zeta = [1, 3]\n",
        "\n",
        "# al = alpha(PS4, X, 3)\n",
        "# print(np.sum(al))"
      ]
    },
    {
      "cell_type": "code",
      "execution_count": null,
      "metadata": {
        "colab": {
          "base_uri": "https://localhost:8080/"
        },
        "id": "hQO2ZLpV3OaE",
        "outputId": "32376cc6-a93b-4b8e-fe36-6856a32a507a"
      },
      "outputs": [
        {
          "name": "stdout",
          "output_type": "stream",
          "text": [
            "(5000,)\n"
          ]
        }
      ],
      "source": [
        "# experiment S1\n",
        "\n",
        "t = np.random.randint(low=1.0, high=30.0, size=(5000))\n",
        "a = 0\n",
        "\n",
        "y = lambda_function2(t, X, a)\n",
        "print(y.shape)\n"
      ]
    },
    {
      "cell_type": "code",
      "execution_count": null,
      "metadata": {
        "colab": {
          "base_uri": "https://localhost:8080/"
        },
        "id": "6_uE18CGCghz",
        "outputId": "4c476309-c404-4b36-a396-c72e5182c6dc"
      },
      "outputs": [
        {
          "name": "stdout",
          "output_type": "stream",
          "text": [
            "1\n",
            "0\n"
          ]
        }
      ],
      "source": [
        "print(int(9 > 3))\n",
        "print(int(9 < 3))"
      ]
    },
    {
      "cell_type": "code",
      "execution_count": null,
      "metadata": {
        "colab": {
          "base_uri": "https://localhost:8080/"
        },
        "id": "FXmx51k2YvaP",
        "outputId": "87300f0a-65dd-4176-e8c7-94b5ad2fc973"
      },
      "outputs": [
        {
          "data": {
            "text/plain": [
              "(30, 5000)"
            ]
          },
          "execution_count": 12,
          "metadata": {},
          "output_type": "execute_result"
        }
      ],
      "source": [
        "S1.shape\n"
      ]
    },
    {
      "cell_type": "code",
      "execution_count": null,
      "metadata": {
        "id": "Iw258NNUDZKj"
      },
      "outputs": [],
      "source": [
        "def draw_sample(haz_fn,censor_fn=None):\n",
        "  t_sample = 30\n",
        "  delta = 0\n",
        "  #start with t=1\n",
        "  for t in range(1,31):\n",
        "    prob_t = haz_fn[t]\n",
        "    prob_t_censor = censor_fn[t]\n",
        "    draw = np.random.uniform()\n",
        "    #using hazard function see if event occured at t\n",
        "    while(draw<=prob_t and draw<=prob_t_censor):\n",
        "      draw = np.random.uniform()\n",
        "    if(draw<=prob_t):\n",
        "      t_sample =t\n",
        "      delta=1\n",
        "      break \n",
        "    if(draw<=prob_t_censor):\n",
        "      t_sample = t\n",
        "      delta = 0\n",
        "      break\n",
        "  return t_sample,delta\n",
        "    "
      ]
    },
    {
      "cell_type": "code",
      "execution_count": null,
      "metadata": {
        "id": "Jk5KN8bDfKHQ"
      },
      "outputs": [],
      "source": [
        "import torch"
      ]
    },
    {
      "cell_type": "code",
      "execution_count": null,
      "metadata": {
        "id": "EQSeFcCYfO0a"
      },
      "outputs": [],
      "source": [
        "a  = torch.tensor([[1.0,2.0,3.0],[3.0,4.0,2.0]])"
      ]
    },
    {
      "cell_type": "code",
      "execution_count": null,
      "metadata": {
        "colab": {
          "base_uri": "https://localhost:8080/"
        },
        "id": "AshLQntsfTAy",
        "outputId": "ac4f98d9-095e-4db2-ef34-8bfde2a2b030"
      },
      "outputs": [
        {
          "name": "stdout",
          "output_type": "stream",
          "text": [
            "tensor([[1., 2., 3.],\n",
            "        [3., 4., 2.]])\n"
          ]
        },
        {
          "data": {
            "text/plain": [
              "tensor([4., 6., 5.])"
            ]
          },
          "execution_count": 30,
          "metadata": {},
          "output_type": "execute_result"
        }
      ],
      "source": [
        "print(a)\n",
        "\n",
        "torch.sum(a,dim=0)\n"
      ]
    }
  ],
  "metadata": {
    "colab": {
      "provenance": [],
      "include_colab_link": true
    },
    "gpuClass": "standard",
    "kernelspec": {
      "display_name": "Python 3",
      "name": "python3"
    },
    "language_info": {
      "name": "python"
    }
  },
  "nbformat": 4,
  "nbformat_minor": 0
}